{
 "cells": [
  {
   "cell_type": "code",
   "execution_count": 6,
   "metadata": {},
   "outputs": [],
   "source": [
    "import pandas as pd\n",
    "import secret\n",
    "import googlemaps "
   ]
  },
  {
   "cell_type": "code",
   "execution_count": 7,
   "metadata": {},
   "outputs": [
    {
     "data": {
      "text/plain": [
       "'Douglass Apartments, 650 Columbus Ave #434, Boston, MA 02118'"
      ]
     },
     "execution_count": 7,
     "metadata": {},
     "output_type": "execute_result"
    }
   ],
   "source": [
    "df = pd.read_csv('data archive/data_processed.csv')\n",
    "df['address'][0]"
   ]
  },
  {
   "cell_type": "code",
   "execution_count": 10,
   "metadata": {},
   "outputs": [
    {
     "data": {
      "text/plain": [
       "-71.08356669999999"
      ]
     },
     "execution_count": 10,
     "metadata": {},
     "output_type": "execute_result"
    }
   ],
   "source": [
    "gmaps = googlemaps.Client(key=secret.api_key)\n",
    "gmaps.geocode(df['address'][0])[0]['geometry']['location'] ['lng']"
   ]
  },
  {
   "cell_type": "code",
   "execution_count": 11,
   "metadata": {},
   "outputs": [
    {
     "name": "stderr",
     "output_type": "stream",
     "text": [
      "C:\\Users\\T T Ajith Kumar\\AppData\\Local\\Temp\\ipykernel_8736\\2732922836.py:2: SettingWithCopyWarning: \n",
      "A value is trying to be set on a copy of a slice from a DataFrame.\n",
      "Try using .loc[row_indexer,col_indexer] = value instead\n",
      "\n",
      "See the caveats in the documentation: https://pandas.pydata.org/pandas-docs/stable/user_guide/indexing.html#returning-a-view-versus-a-copy\n",
      "  df_test[\"new\"] = df_test[\"address\"].apply(lambda x : gmaps.geocode(x)[0]['geometry']['location'] ['lng'])\n"
     ]
    }
   ],
   "source": [
    "df_test = df.head(10)\n",
    "df_test[\"new\"] = df_test[\"address\"].apply(lambda x : gmaps.geocode(x)[0]['geometry']['location'] ['lng'])"
   ]
  },
  {
   "cell_type": "code",
   "execution_count": 12,
   "metadata": {},
   "outputs": [
    {
     "data": {
      "text/html": [
       "<div>\n",
       "<style scoped>\n",
       "    .dataframe tbody tr th:only-of-type {\n",
       "        vertical-align: middle;\n",
       "    }\n",
       "\n",
       "    .dataframe tbody tr th {\n",
       "        vertical-align: top;\n",
       "    }\n",
       "\n",
       "    .dataframe thead th {\n",
       "        text-align: right;\n",
       "    }\n",
       "</style>\n",
       "<table border=\"1\" class=\"dataframe\">\n",
       "  <thead>\n",
       "    <tr style=\"text-align: right;\">\n",
       "      <th></th>\n",
       "      <th>address</th>\n",
       "      <th>bds</th>\n",
       "      <th>cost</th>\n",
       "      <th>distance_neu</th>\n",
       "      <th>distance_harvard</th>\n",
       "      <th>distance_mit</th>\n",
       "      <th>distance_bu</th>\n",
       "      <th>new</th>\n",
       "    </tr>\n",
       "  </thead>\n",
       "  <tbody>\n",
       "    <tr>\n",
       "      <th>0</th>\n",
       "      <td>Douglass Apartments, 650 Columbus Ave #434, Bo...</td>\n",
       "      <td>1</td>\n",
       "      <td>3300</td>\n",
       "      <td>0.5 km</td>\n",
       "      <td>6.6 km</td>\n",
       "      <td>3.2 km</td>\n",
       "      <td>2.1 km</td>\n",
       "      <td>-71.083567</td>\n",
       "    </tr>\n",
       "    <tr>\n",
       "      <th>1</th>\n",
       "      <td>Gardner Street Apartments | 75-84 Gardner St, ...</td>\n",
       "      <td>1</td>\n",
       "      <td>2450</td>\n",
       "      <td>6.2 km</td>\n",
       "      <td>2.5 km</td>\n",
       "      <td>5.4 km</td>\n",
       "      <td>1.1 km</td>\n",
       "      <td>-71.127130</td>\n",
       "    </tr>\n",
       "    <tr>\n",
       "      <th>2</th>\n",
       "      <td>Gardner Street Apartments | 75-84 Gardner St, ...</td>\n",
       "      <td>2</td>\n",
       "      <td>2450</td>\n",
       "      <td>6.2 km</td>\n",
       "      <td>2.5 km</td>\n",
       "      <td>5.4 km</td>\n",
       "      <td>1.1 km</td>\n",
       "      <td>-71.127130</td>\n",
       "    </tr>\n",
       "    <tr>\n",
       "      <th>3</th>\n",
       "      <td>Idyl Fenway | 60 Kilmarnock St, Boston, MA</td>\n",
       "      <td>Studio</td>\n",
       "      <td>3710</td>\n",
       "      <td>1.0 km</td>\n",
       "      <td>6.2 km</td>\n",
       "      <td>3.1 km</td>\n",
       "      <td>1.3 km</td>\n",
       "      <td>-71.099035</td>\n",
       "    </tr>\n",
       "    <tr>\n",
       "      <th>4</th>\n",
       "      <td>Idyl Fenway | 60 Kilmarnock St, Boston, MA</td>\n",
       "      <td>1</td>\n",
       "      <td>3990</td>\n",
       "      <td>1.0 km</td>\n",
       "      <td>6.2 km</td>\n",
       "      <td>3.1 km</td>\n",
       "      <td>1.3 km</td>\n",
       "      <td>-71.099035</td>\n",
       "    </tr>\n",
       "    <tr>\n",
       "      <th>5</th>\n",
       "      <td>Idyl Fenway | 60 Kilmarnock St, Boston, MA</td>\n",
       "      <td>2</td>\n",
       "      <td>5710</td>\n",
       "      <td>1.0 km</td>\n",
       "      <td>6.2 km</td>\n",
       "      <td>3.1 km</td>\n",
       "      <td>1.3 km</td>\n",
       "      <td>-71.099035</td>\n",
       "    </tr>\n",
       "    <tr>\n",
       "      <th>6</th>\n",
       "      <td>Idyl Fenway | 60 Kilmarnock St, Boston, MA</td>\n",
       "      <td>3</td>\n",
       "      <td>9190</td>\n",
       "      <td>1.0 km</td>\n",
       "      <td>6.2 km</td>\n",
       "      <td>3.1 km</td>\n",
       "      <td>1.3 km</td>\n",
       "      <td>-71.099035</td>\n",
       "    </tr>\n",
       "    <tr>\n",
       "      <th>7</th>\n",
       "      <td>Elements | 60 Brainerd Rd, Allston, MA</td>\n",
       "      <td>1</td>\n",
       "      <td>3287</td>\n",
       "      <td>4.3 km</td>\n",
       "      <td>2.6 km</td>\n",
       "      <td>4.9 km</td>\n",
       "      <td>1.6 km</td>\n",
       "      <td>-71.133201</td>\n",
       "    </tr>\n",
       "    <tr>\n",
       "      <th>8</th>\n",
       "      <td>Winter Street Apartments, 8, 8 Winter St #1103...</td>\n",
       "      <td>1</td>\n",
       "      <td>3200</td>\n",
       "      <td>4.5 km</td>\n",
       "      <td>8.7 km</td>\n",
       "      <td>4.2 km</td>\n",
       "      <td>3.5 km</td>\n",
       "      <td>-71.060809</td>\n",
       "    </tr>\n",
       "    <tr>\n",
       "      <th>9</th>\n",
       "      <td>The Brynx | 201 S Huntington Ave, Jamaica Plai...</td>\n",
       "      <td>Studio</td>\n",
       "      <td>2690</td>\n",
       "      <td>3.2 km</td>\n",
       "      <td>5.2 km</td>\n",
       "      <td>5.6 km</td>\n",
       "      <td>3.1 km</td>\n",
       "      <td>-71.112336</td>\n",
       "    </tr>\n",
       "  </tbody>\n",
       "</table>\n",
       "</div>"
      ],
      "text/plain": [
       "                                             address     bds  cost  \\\n",
       "0  Douglass Apartments, 650 Columbus Ave #434, Bo...       1  3300   \n",
       "1  Gardner Street Apartments | 75-84 Gardner St, ...       1  2450   \n",
       "2  Gardner Street Apartments | 75-84 Gardner St, ...       2  2450   \n",
       "3         Idyl Fenway | 60 Kilmarnock St, Boston, MA  Studio  3710   \n",
       "4         Idyl Fenway | 60 Kilmarnock St, Boston, MA       1  3990   \n",
       "5         Idyl Fenway | 60 Kilmarnock St, Boston, MA       2  5710   \n",
       "6         Idyl Fenway | 60 Kilmarnock St, Boston, MA       3  9190   \n",
       "7             Elements | 60 Brainerd Rd, Allston, MA       1  3287   \n",
       "8  Winter Street Apartments, 8, 8 Winter St #1103...       1  3200   \n",
       "9  The Brynx | 201 S Huntington Ave, Jamaica Plai...  Studio  2690   \n",
       "\n",
       "  distance_neu distance_harvard distance_mit distance_bu        new  \n",
       "0       0.5 km           6.6 km       3.2 km      2.1 km -71.083567  \n",
       "1       6.2 km           2.5 km       5.4 km      1.1 km -71.127130  \n",
       "2       6.2 km           2.5 km       5.4 km      1.1 km -71.127130  \n",
       "3       1.0 km           6.2 km       3.1 km      1.3 km -71.099035  \n",
       "4       1.0 km           6.2 km       3.1 km      1.3 km -71.099035  \n",
       "5       1.0 km           6.2 km       3.1 km      1.3 km -71.099035  \n",
       "6       1.0 km           6.2 km       3.1 km      1.3 km -71.099035  \n",
       "7       4.3 km           2.6 km       4.9 km      1.6 km -71.133201  \n",
       "8       4.5 km           8.7 km       4.2 km      3.5 km -71.060809  \n",
       "9       3.2 km           5.2 km       5.6 km      3.1 km -71.112336  "
      ]
     },
     "execution_count": 12,
     "metadata": {},
     "output_type": "execute_result"
    }
   ],
   "source": [
    "df_test"
   ]
  },
  {
   "cell_type": "code",
   "execution_count": 13,
   "metadata": {},
   "outputs": [],
   "source": [
    "df[\"lat\"] = df[\"address\"].apply(lambda x : gmaps.geocode(x)[0]['geometry']['location'] ['lat'])\n",
    "df[\"lng\"] = df[\"address\"].apply(lambda x : gmaps.geocode(x)[0]['geometry']['location'] ['lng'])"
   ]
  },
  {
   "cell_type": "code",
   "execution_count": 14,
   "metadata": {},
   "outputs": [],
   "source": [
    "df.to_csv('data archive/data_processed_with_coordinates.csv', index=False)"
   ]
  },
  {
   "cell_type": "code",
   "execution_count": null,
   "metadata": {},
   "outputs": [],
   "source": []
  }
 ],
 "metadata": {
  "kernelspec": {
   "display_name": "Python 3",
   "language": "python",
   "name": "python3"
  },
  "language_info": {
   "codemirror_mode": {
    "name": "ipython",
    "version": 3
   },
   "file_extension": ".py",
   "mimetype": "text/x-python",
   "name": "python",
   "nbconvert_exporter": "python",
   "pygments_lexer": "ipython3",
   "version": "3.12.6"
  }
 },
 "nbformat": 4,
 "nbformat_minor": 2
}
